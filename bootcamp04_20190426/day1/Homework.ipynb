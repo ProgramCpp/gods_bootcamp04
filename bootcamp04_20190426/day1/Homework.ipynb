{
 "cells": [
  {
   "cell_type": "markdown",
   "metadata": {},
   "source": [
    "# Homework Day 1\n",
    "\n",
    "* Name : \n",
    "* Department : \n"
   ]
  },
  {
   "cell_type": "code",
   "execution_count": null,
   "metadata": {},
   "outputs": [],
   "source": [
    "from sklearn import datasets\n",
    "import pandas as pd\n",
    "\n",
    "raw = datasets.load_boston()\n",
    "\n",
    "data = pd.DataFrame(raw['data'], columns = raw['feature_names'])\n",
    "target = raw['target']\n",
    "\n",
    "data.head()\n",
    "print(raw['DESCR'])\n"
   ]
  },
  {
   "cell_type": "markdown",
   "metadata": {},
   "source": [
    "### [1] Normalisation of features ( 2 pts )\n",
    "Write your own function to normalize the data (Ask ur best friend for definition of data normalization)\n",
    "Plot the histogram of the distribution of one column of your choice before and after normalization. "
   ]
  },
  {
   "cell_type": "code",
   "execution_count": null,
   "metadata": {},
   "outputs": [],
   "source": [
    "def normalise_data(data): \n",
    "    # fill the code here\n",
    "    \n",
    "    return normalized_data\n",
    "\n",
    "normalized_data = normalise_data(data)\n",
    "normalized_data.describe()\n",
    "# code to plot the histogram of a column of ur choice\n"
   ]
  },
  {
   "cell_type": "markdown",
   "metadata": {},
   "source": [
    "### [2] Descriptive Statistics ( 2 pts) \n",
    "Find the variable with the highest sum of standard deviation and mean from the data. Afterwards, plot the histogram of that variable."
   ]
  },
  {
   "cell_type": "code",
   "execution_count": null,
   "metadata": {},
   "outputs": [],
   "source": [
    "def find_highest_sum_std_mean(data): \n",
    "    # fill the code here\n",
    "    \n",
    "    return col_name\n",
    "\n",
    "print(find_highest_sum_std_mean(data)) \n",
    "\n",
    "# fill the code to create histogram here"
   ]
  },
  {
   "cell_type": "markdown",
   "metadata": {},
   "source": [
    "### [3] Find two variables with the highest pearson correlation (2 pts)\n",
    "Use the normalised data for this exercise\n"
   ]
  },
  {
   "cell_type": "code",
   "execution_count": null,
   "metadata": {},
   "outputs": [],
   "source": [
    "def find_highest_correlation(data): \n",
    "    # fill the code here\n",
    "    return co11,col2\n",
    "\n",
    "print('col1 : {} , col2 : {}'.format(find_highest_correlation(data))) "
   ]
  },
  {
   "cell_type": "markdown",
   "metadata": {},
   "source": [
    "### [4] Visualise using Box Plot (1 pts)\n",
    "Calculate manually (by hands) the number of outliers below Quartile 1 for feature ``RM``. You can do this using matplotlib standard boxplot functionality (using default setting). You can zoom out the figure by using figsize setting\n",
    "\n",
    "``` python\n",
    "import matplotlib.pyplot as plt \n",
    "fig = plt.figure(figsize=(20,15))\n",
    "\n",
    "# script to create plot\n",
    "```"
   ]
  },
  {
   "cell_type": "code",
   "execution_count": null,
   "metadata": {},
   "outputs": [],
   "source": [
    "feature = data['RM']\n",
    "\n",
    "def plot_rm_feature(feature): \n",
    "    # code to plot \n",
    "    \n",
    "    return None\n",
    "\n",
    "num_outliers = # to be filled by you\n",
    "\n",
    "print('the number of outliers is {}'.format(num_outliers))\n"
   ]
  },
  {
   "cell_type": "markdown",
   "metadata": {},
   "source": [
    "### [5] Create a scatter plot for all variables (1 pts)\n",
    "(Do not create separate scatter plots. Refer example below.) \n"
   ]
  },
  {
   "cell_type": "code",
   "execution_count": null,
   "metadata": {},
   "outputs": [],
   "source": [
    "# Fill the code here"
   ]
  },
  {
   "cell_type": "markdown",
   "metadata": {},
   "source": [
    "### [6] Create a heatmap (1 pts)\n"
   ]
  },
  {
   "cell_type": "code",
   "execution_count": null,
   "metadata": {},
   "outputs": [],
   "source": [
    "# Fill the code here"
   ]
  },
  {
   "cell_type": "markdown",
   "metadata": {},
   "source": [
    "### [7] Insights from data (1 pts)\n"
   ]
  },
  {
   "cell_type": "code",
   "execution_count": null,
   "metadata": {},
   "outputs": [],
   "source": [
    "# Fill the code here"
   ]
  }
 ],
 "metadata": {
  "kernelspec": {
   "display_name": "Python 3",
   "language": "python",
   "name": "python3"
  },
  "language_info": {
   "codemirror_mode": {
    "name": "ipython",
    "version": 3
   },
   "file_extension": ".py",
   "mimetype": "text/x-python",
   "name": "python",
   "nbconvert_exporter": "python",
   "pygments_lexer": "ipython3",
   "version": "3.6.5"
  }
 },
 "nbformat": 4,
 "nbformat_minor": 2
}
