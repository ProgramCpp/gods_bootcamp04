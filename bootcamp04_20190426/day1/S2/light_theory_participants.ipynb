{
 "cells": [
  {
   "cell_type": "markdown",
   "metadata": {},
   "source": [
    "### Let's do some exploration ### \n",
    "1. Load data \n",
    "* Inspect the data: \n",
    "    1. Check for the available keys\n",
    "    * Show the description of the data\n",
    "    * Check whether the number of features is the same as the number of columns in the data\n",
    "    * Put the data into the dictionary for easier processing\n",
    "* Take one variable and visualize the relation between that variable and the target variable\n",
    "* Loop over all features to find the most predictive variable\n",
    "* Fit a linear regression between that variable and the target variable: \n",
    "    1. If we fit a line $a+bx$, how does the error vary with different $a$ and $b$ \n",
    "    * Formulate the error as a loss function\n",
    "    * Inspect the shape of the loss function\n",
    "    * Estimate the parameters $a$ and $b$ which minimize the loss function: \n",
    "        * Analytically \n",
    "        * Using the pre-built function\n",
    "        * Compare the results\n",
    "* (Exercise) Understand the Bias-Variance Trade-offs: \n",
    "    * Create a small function with: \n",
    "        * Inputs: \n",
    "            * Train data: X_train,y_train\n",
    "            * Test data: X_test, y_test\n",
    "            * Degree of the fitted polynomial: n \n",
    "        * Output: \n",
    "            * Plot of the fitted polynomial \n",
    "            * MSE of the fitted polynomial on test dataset\n",
    "    * Compare the results of the function between $n=1$ (linear) and $n=6$\n",
    "    \n",
    "    "
   ]
  },
  {
   "cell_type": "markdown",
   "metadata": {},
   "source": [
    "### 1. Load data\n",
    "Load data from boston dataset"
   ]
  },
  {
   "cell_type": "code",
   "execution_count": 4,
   "metadata": {},
   "outputs": [
    {
     "data": {
      "text/plain": [
       "sklearn.utils.Bunch"
      ]
     },
     "execution_count": 4,
     "metadata": {},
     "output_type": "execute_result"
    }
   ],
   "source": [
    "# Begin Code\n",
    "from sklearn.datasets import load_boston\n",
    "\n",
    "raw_data = load_boston() \n",
    "\n",
    "# End Code"
   ]
  },
  {
   "cell_type": "markdown",
   "metadata": {},
   "source": [
    "### 2. Inspect the data"
   ]
  },
  {
   "cell_type": "markdown",
   "metadata": {},
   "source": [
    "#### A. Check for available keys"
   ]
  },
  {
   "cell_type": "code",
   "execution_count": 11,
   "metadata": {},
   "outputs": [
    {
     "data": {
      "text/plain": [
       "array([24. , 21.6, 34.7, 33.4, 36.2])"
      ]
     },
     "execution_count": 11,
     "metadata": {},
     "output_type": "execute_result"
    }
   ],
   "source": [
    "# Begin Code \n",
    "\n",
    "raw_data.keys()\n",
    "\n",
    "\n",
    "raw_data['target'][:5]\n",
    "# End Code"
   ]
  },
  {
   "cell_type": "markdown",
   "metadata": {},
   "source": [
    "\"DESCR\" is one of the key in the data. So let's look the description of the dataset"
   ]
  },
  {
   "cell_type": "markdown",
   "metadata": {},
   "source": [
    "#### B. Show the description of the data"
   ]
  },
  {
   "cell_type": "code",
   "execution_count": 12,
   "metadata": {},
   "outputs": [
    {
     "name": "stdout",
     "output_type": "stream",
     "text": [
      "Boston House Prices dataset\n",
      "===========================\n",
      "\n",
      "Notes\n",
      "------\n",
      "Data Set Characteristics:  \n",
      "\n",
      "    :Number of Instances: 506 \n",
      "\n",
      "    :Number of Attributes: 13 numeric/categorical predictive\n",
      "    \n",
      "    :Median Value (attribute 14) is usually the target\n",
      "\n",
      "    :Attribute Information (in order):\n",
      "        - CRIM     per capita crime rate by town\n",
      "        - ZN       proportion of residential land zoned for lots over 25,000 sq.ft.\n",
      "        - INDUS    proportion of non-retail business acres per town\n",
      "        - CHAS     Charles River dummy variable (= 1 if tract bounds river; 0 otherwise)\n",
      "        - NOX      nitric oxides concentration (parts per 10 million)\n",
      "        - RM       average number of rooms per dwelling\n",
      "        - AGE      proportion of owner-occupied units built prior to 1940\n",
      "        - DIS      weighted distances to five Boston employment centres\n",
      "        - RAD      index of accessibility to radial highways\n",
      "        - TAX      full-value property-tax rate per $10,000\n",
      "        - PTRATIO  pupil-teacher ratio by town\n",
      "        - B        1000(Bk - 0.63)^2 where Bk is the proportion of blacks by town\n",
      "        - LSTAT    % lower status of the population\n",
      "        - MEDV     Median value of owner-occupied homes in $1000's\n",
      "\n",
      "    :Missing Attribute Values: None\n",
      "\n",
      "    :Creator: Harrison, D. and Rubinfeld, D.L.\n",
      "\n",
      "This is a copy of UCI ML housing dataset.\n",
      "http://archive.ics.uci.edu/ml/datasets/Housing\n",
      "\n",
      "\n",
      "This dataset was taken from the StatLib library which is maintained at Carnegie Mellon University.\n",
      "\n",
      "The Boston house-price data of Harrison, D. and Rubinfeld, D.L. 'Hedonic\n",
      "prices and the demand for clean air', J. Environ. Economics & Management,\n",
      "vol.5, 81-102, 1978.   Used in Belsley, Kuh & Welsch, 'Regression diagnostics\n",
      "...', Wiley, 1980.   N.B. Various transformations are used in the table on\n",
      "pages 244-261 of the latter.\n",
      "\n",
      "The Boston house-price data has been used in many machine learning papers that address regression\n",
      "problems.   \n",
      "     \n",
      "**References**\n",
      "\n",
      "   - Belsley, Kuh & Welsch, 'Regression diagnostics: Identifying Influential Data and Sources of Collinearity', Wiley, 1980. 244-261.\n",
      "   - Quinlan,R. (1993). Combining Instance-Based and Model-Based Learning. In Proceedings on the Tenth International Conference of Machine Learning, 236-243, University of Massachusetts, Amherst. Morgan Kaufmann.\n",
      "   - many more! (see http://archive.ics.uci.edu/ml/datasets/Housing)\n",
      "\n"
     ]
    }
   ],
   "source": [
    "# Begin Code \n",
    "\n",
    "print(raw_data['DESCR'])\n",
    "# End Code"
   ]
  },
  {
   "cell_type": "markdown",
   "metadata": {},
   "source": [
    "#### C. Check whether # features is the same as # columns in the data"
   ]
  },
  {
   "cell_type": "code",
   "execution_count": 15,
   "metadata": {},
   "outputs": [
    {
     "data": {
      "text/plain": [
       "(13,)"
      ]
     },
     "execution_count": 15,
     "metadata": {},
     "output_type": "execute_result"
    }
   ],
   "source": [
    "# Begin Code\n",
    "raw_data['data'].shape\n",
    "\n",
    "raw_data['feature_names'].shape\n",
    "# End Code"
   ]
  },
  {
   "cell_type": "markdown",
   "metadata": {},
   "source": [
    "#### D. Transform the data into dictionary for easier processing"
   ]
  },
  {
   "cell_type": "code",
   "execution_count": 22,
   "metadata": {},
   "outputs": [],
   "source": [
    "# Begin Code\n",
    "data = dict() \n",
    "\n",
    "for i,col in enumerate(raw_data['feature_names']): \n",
    "    \n",
    "    data[col] = raw_data['data'][:,i]\n",
    "\n",
    "data['target'] = raw_data['target']\n",
    "# End Code"
   ]
  },
  {
   "cell_type": "markdown",
   "metadata": {},
   "source": [
    "### Take one variable, e.g. crime rate, and visualize its relation to the target variable"
   ]
  },
  {
   "cell_type": "code",
   "execution_count": 24,
   "metadata": {},
   "outputs": [
    {
     "data": {
      "text/plain": [
       "[<matplotlib.lines.Line2D at 0x7f49e419e550>]"
      ]
     },
     "execution_count": 24,
     "metadata": {},
     "output_type": "execute_result"
    },
    {
     "data": {
      "image/png": "[encoded data removed]",
      "text/plain": [
       "<Figure size 432x288 with 1 Axes>"
      ]
     },
     "metadata": {},
     "output_type": "display_data"
    }
   ],
   "source": [
    "import matplotlib.pyplot as plt \n",
    "\n",
    "%matplotlib inline\n",
    "\n",
    "# Begin Code \n",
    "\n",
    "x = data['CRIM']\n",
    "y = data['target']\n",
    "\n",
    "plt.plot(x,y,'o')\n",
    "\n",
    "# End Code"
   ]
  },
  {
   "cell_type": "markdown",
   "metadata": {},
   "source": [
    "### *Loop over all features to find the most predictive variable*\n"
   ]
  },
  {
   "cell_type": "code",
   "execution_count": 7,
   "metadata": {},
   "outputs": [],
   "source": [
    "# Begin Code \n",
    "# End Code"
   ]
  },
  {
   "cell_type": "markdown",
   "metadata": {},
   "source": [
    "Suppose that $X_0$ is the most predictive variable based on the visual inspection, and y being the target variable.  \n",
    "\n",
    "*Which transformation shall be applied to $X_0$ to make the relation more linear?*\n",
    "\n",
    "Apply that transformation and store the transformed variable into $X$"
   ]
  },
  {
   "cell_type": "code",
   "execution_count": 8,
   "metadata": {},
   "outputs": [],
   "source": [
    "# Begin Code \n",
    "# End Code"
   ]
  },
  {
   "cell_type": "markdown",
   "metadata": {},
   "source": [
    "It can be seen that the logarithm of the X0 exhibit more linear relationship with the target variable"
   ]
  },
  {
   "cell_type": "markdown",
   "metadata": {},
   "source": [
    "*Can we fit a linear function to the X and Y*\n"
   ]
  },
  {
   "cell_type": "markdown",
   "metadata": {},
   "source": [
    "### Fit a linear regression between that variable and the target variable"
   ]
  },
  {
   "cell_type": "markdown",
   "metadata": {},
   "source": [
    "#### A. If we fit a line $a+bx$, how does the error vary with different $a$ and $b$ "
   ]
  },
  {
   "cell_type": "markdown",
   "metadata": {},
   "source": [
    "Mean squared error is defined as $$ MSE = \\frac{1}{N} \\sum_{i=1}^{N} \\left(y_i-(a+b x_i) \\right)^2$$\n",
    "\n",
    "Where \n",
    "$N$ is the number of observations\n",
    "<br>\n",
    "$x_i,y_i$ respectively are $x$ and $y$ values for the $i$-th observation "
   ]
  },
  {
   "cell_type": "code",
   "execution_count": 9,
   "metadata": {},
   "outputs": [],
   "source": [
    "# Begin Code \n",
    "# End Code"
   ]
  },
  {
   "cell_type": "markdown",
   "metadata": {},
   "source": [
    "#### B. Formulate the error as a loss function\n",
    "\n",
    "$$ L(a,b) := \\frac{1}{N} \\sum_{i=1}^{N} \\left(y_i-(a+b x_i) \\right)^2 $$"
   ]
  },
  {
   "cell_type": "markdown",
   "metadata": {},
   "source": [
    "#### C. Inspect the shape of the loss function"
   ]
  },
  {
   "cell_type": "code",
   "execution_count": 10,
   "metadata": {},
   "outputs": [],
   "source": [
    "# Begin Code \n",
    "# End Code"
   ]
  },
  {
   "cell_type": "markdown",
   "metadata": {},
   "source": [
    "#### D. Estimate the parameters $a$ and $b$ which minimize the loss function\n",
    "\n",
    "Let's compute parameter $a$ and $b$ from"
   ]
  },
  {
   "cell_type": "markdown",
   "metadata": {},
   "source": [
    "*Analytical Formula*\n",
    "\n",
    "It can be shown that the values of $a$ and $b$ which minimize the loss function are given by \n",
    "$$ \\hat{b} = \\frac {\\sum_{i=1}^{N}(x_i- \\bar{x} ) (y_i - \\bar{y}) }\n",
    "            {\\sum_{i=1}^{N} (x_i-\\bar{x})^2}\n",
    "$$ \n",
    "and \n",
    "$$\n",
    "\\hat{a} = \\bar{y} - \\hat{b} \\bar{x}\n",
    "$$"
   ]
  },
  {
   "cell_type": "code",
   "execution_count": 11,
   "metadata": {},
   "outputs": [],
   "source": [
    "# Begin Code \n",
    "# End Code"
   ]
  },
  {
   "cell_type": "markdown",
   "metadata": {},
   "source": [
    "*Built-in python function*"
   ]
  },
  {
   "cell_type": "code",
   "execution_count": 12,
   "metadata": {},
   "outputs": [],
   "source": [
    "# Begin Code \n",
    "# End Code"
   ]
  },
  {
   "cell_type": "markdown",
   "metadata": {},
   "source": [
    "### Understand the Bias-Variance Trade-offs"
   ]
  },
  {
   "cell_type": "markdown",
   "metadata": {},
   "source": [
    "In this exercise, we will explore the idea of bias-variance trade-offs\n",
    "![Bias-Variance](https://cdn-images-1.medium.com/max/2000/1*xwtSpR_zg7j7zusa4IDHNQ.png)"
   ]
  },
  {
   "cell_type": "markdown",
   "metadata": {},
   "source": [
    "#### Create a small function with: \n",
    "* Inputs: \n",
    "    * Train data: X_train,y_train\n",
    "    * Test data: X_test, y_test\n",
    "    * Degree of the fitted polynomial: n \n",
    "* Output: \n",
    "    * Plot of the fitted polynomial \n",
    "    * MSE of the fitted polynomial on test dataset\n",
    "\n",
    "Please note the followings: \n",
    "* Sample **n_sample** observations and store them respectively in variables **X_train** and **y_train**. Use **n_sample = 106** as a start\n",
    "* Store the rest of the observations in **X_test** and **y_test**\n",
    "* Use functions  _np.polyfit_ and _np.poly1d_ to fit the polynomial"
   ]
  },
  {
   "cell_type": "code",
   "execution_count": 13,
   "metadata": {},
   "outputs": [],
   "source": [
    "# Begin Code \n",
    "# End Code"
   ]
  },
  {
   "cell_type": "markdown",
   "metadata": {},
   "source": [
    "#### Compare the results of the function between $n=1$ (linear) and $n=6$"
   ]
  },
  {
   "cell_type": "code",
   "execution_count": 14,
   "metadata": {},
   "outputs": [],
   "source": [
    "# Begin Code \n",
    "# End Code"
   ]
  }
 ],
 "metadata": {
  "kernelspec": {
   "display_name": "Python 3",
   "language": "python",
   "name": "python3"
  },
  "language_info": {
   "codemirror_mode": {
    "name": "ipython",
    "version": 3
   },
   "file_extension": ".py",
   "mimetype": "text/x-python",
   "name": "python",
   "nbconvert_exporter": "python",
   "pygments_lexer": "ipython3",
   "version": "3.6.5"
  }
 },
 "nbformat": 4,
 "nbformat_minor": 2
}
